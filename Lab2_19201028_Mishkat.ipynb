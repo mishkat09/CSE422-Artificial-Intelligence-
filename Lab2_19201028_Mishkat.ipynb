{
  "nbformat": 4,
  "nbformat_minor": 0,
  "metadata": {
    "colab": {
      "provenance": []
    },
    "kernelspec": {
      "name": "python3",
      "display_name": "Python 3"
    },
    "language_info": {
      "name": "python"
    }
  },
  "cells": [
    {
      "cell_type": "code",
      "execution_count": null,
      "metadata": {
        "colab": {
          "base_uri": "https://localhost:8080/"
        },
        "id": "1PnxtY54U9bl",
        "outputId": "e0d703ce-e680-4d21-81cb-eecaefec619d"
      },
      "outputs": [
        {
          "output_type": "stream",
          "name": "stdout",
          "text": [
            "Enter your student ID: 19301212\n",
            "Generated 8 random points between the minimum and maximum point limits: [23, 11, 12, 24, 13, 5, 30, 31]\n",
            "Total points to win: 21\n",
            "Achieved point by applying alpha-beta pruning = 23\n",
            "The winner is Optimus Prime\n",
            "After the shuffle:\n",
            "List of all points values from each shuffle: [23, 30, 23, 30, 30, 23, 24, 24]\n",
            "The maximum value of all shuffles: 30\n",
            "Won 8 times out of 8 number of shuffles\n"
          ]
        }
      ],
      "source": [
        "import random\n",
        "\n",
        "# function to calculate score using min-max algorithm\n",
        "def MIN_MAX(pos, maximizing, lst, alpha, beta, depth):\n",
        "    if depth == 0:\n",
        "        return lst[pos]\n",
        "    if maximizing:\n",
        "        max_val = -float(\"inf\")\n",
        "        for i in range(2):\n",
        "            val = MIN_MAX(pos*2+i, False, lst, alpha, beta, depth-1)\n",
        "            max_val = max(max_val, val)\n",
        "            alpha = max(alpha, val)\n",
        "            if beta <= alpha:\n",
        "                break\n",
        "        return max_val\n",
        "    else:\n",
        "        min_val = float(\"inf\")\n",
        "        for i in range(2):\n",
        "            val = MIN_MAX(pos*2+i, True, lst, alpha, beta, depth-1)\n",
        "            min_val = min(min_val, val)\n",
        "            beta = min(beta, val)\n",
        "            if beta <= alpha:\n",
        "                break\n",
        "        return min_val\n",
        "\n",
        "# main program\n",
        "student_id = input(\"Enter your student ID: \")\n",
        "student_id = student_id.replace(\"0\", \"8\")\n",
        "num_shuffles = int(student_id[3])\n",
        "minimum_point = int(student_id[4])\n",
        "win_point = int(student_id[-1:-3:-1])\n",
        "max_point = int(win_point*1.5)\n",
        "points = [random.randint(minimum_point, max_point) for i in range(8)]\n",
        "\n",
        "# calculate point using MIN_MAX algorithm\n",
        "point_get = MIN_MAX(0, True, points, -float(\"inf\"), float(\"inf\"), 3)\n",
        "\n",
        "# check winner\n",
        "if point_get >= win_point:\n",
        "    winner = \"Optimus Prime\"\n",
        "else:\n",
        "    winner = \"Megatron\"\n",
        "\n",
        "# display results for Task-1\n",
        "print(f\"Generated 8 random points between the minimum and maximum point limits: {points}\")\n",
        "print(f\"Total points to win: {win_point}\")\n",
        "print(f\"Achieved point by applying alpha-beta pruning = {point_get}\")\n",
        "print(f\"The winner is {winner}\")\n",
        "\n",
        "# shuffle and check winner for Task-2\n",
        "points_list = []\n",
        "for i in range(num_shuffles):\n",
        "    random.shuffle(points)\n",
        "    point = MIN_MAX(0, True, points, -float(\"inf\"), float(\"inf\"), 3)\n",
        "    points_list.append(point)\n",
        "\n",
        "count = sum([1 for p in points_list if p >= win_point])\n",
        "print(f\"After the shuffle:\")\n",
        "print(f\"List of all points values from each shuffle: {points_list}\")\n",
        "print(f\"The maximum value of all shuffles: {max(points_list, default=0)}\")\n",
        "print(f\"Won {count} times out of {num_shuffles} number of shuffles\")\n"
      ]
    }
  ]
}