{
  "nbformat": 4,
  "nbformat_minor": 0,
  "metadata": {
    "colab": {
      "provenance": []
    },
    "kernelspec": {
      "name": "python3",
      "display_name": "Python 3"
    },
    "language_info": {
      "name": "python"
    }
  },
  "cells": [
    {
      "cell_type": "code",
      "execution_count": null,
      "metadata": {
        "colab": {
          "base_uri": "https://localhost:8080/"
        },
        "id": "9sI8ZUvxDzCN",
        "outputId": "5bd80b5c-9bbf-4969-9c12-22c107a51c1f"
      },
      "outputs": [
        {
          "output_type": "stream",
          "name": "stdout",
          "text": [
            "PATH : ['Arad', 'Sibiu', 'RimnicuVilcea', 'Pitesti', 'Bucharest'] \n",
            "Total distance : 418\n"
          ]
        },
        {
          "output_type": "execute_result",
          "data": {
            "text/plain": [
              "['Arad', 'Sibiu', 'RimnicuVilcea', 'Pitesti', 'Bucharest']"
            ]
          },
          "metadata": {},
          "execution_count": 3
        }
      ],
      "source": [
        "gn = {}\n",
        "he = {}\n",
        "\n",
        "# Define Neighbors function to return an empty list if vertex is not in gn\n",
        "def Neighbors(v):\n",
        "    return gn.get(v, [])\n",
        "\n",
        "# Define heuristic function to estimate distance to goal node\n",
        "def h(v):\n",
        "    return he.get(v, 0)\n",
        "\n",
        "def Astar(start, stop):\n",
        "    visited = {}\n",
        "    unvisited = {start}\n",
        "    g_scores = {start: 0}\n",
        "    parents = {start: start}\n",
        "\n",
        "    while len(unvisited) > 0:\n",
        "        current = None\n",
        "        for node in unvisited:\n",
        "            if current is None or g_scores[current] + h(current) > g_scores[node] + h(node):\n",
        "                current = node\n",
        "\n",
        "        if current == stop or g_scores.get(current) is None:\n",
        "            break\n",
        "        else:\n",
        "            for neighbor, weight in Neighbors(current):\n",
        "                new_g_score = g_scores[current] + weight\n",
        "                if neighbor not in visited or new_g_score < g_scores.get(neighbor, float('inf')):\n",
        "                    unvisited.add(neighbor)\n",
        "                    visited.pop(neighbor, None)\n",
        "                    parents[neighbor] = current\n",
        "                    g_scores[neighbor] = new_g_score\n",
        "\n",
        "        visited[current] = True\n",
        "        unvisited.discard(current)\n",
        "\n",
        "    if current == None or current != stop:\n",
        "        print('NO PATH FOUND')\n",
        "        return None\n",
        "\n",
        "    path = []\n",
        "    total_distance = g_scores[current]\n",
        "\n",
        "    while current != start:\n",
        "        path.append(current)\n",
        "        current = parents[current]\n",
        "\n",
        "    path.append(start)\n",
        "    path.reverse()\n",
        "\n",
        "    print('PATH : {} '.format(path))\n",
        "    print('Total distance :', total_distance)\n",
        "\n",
        "    return path\n",
        "\n",
        "# Load graph data from file\n",
        "with open('Input.txt') as f:\n",
        "    for line in f:\n",
        "        s = line.strip().split(' ')\n",
        "        node = s[0]\n",
        "        he[node] = int(s[1])\n",
        "        neighbors = []\n",
        "        for i in range(2, len(s), 2):\n",
        "            neighbor = s[i]\n",
        "            weight = int(s[i+1])\n",
        "            neighbors.append((neighbor, weight))\n",
        "        gn[node] = neighbors\n",
        "\n",
        "#A* algorithm\n",
        "Astar('Arad', 'Bucharest')\n"
      ]
    }
  ]
}