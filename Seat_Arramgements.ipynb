{
  "nbformat": 4,
  "nbformat_minor": 0,
  "metadata": {
    "colab": {
      "provenance": []
    },
    "kernelspec": {
      "name": "python3",
      "display_name": "Python 3"
    },
    "language_info": {
      "name": "python"
    }
  },
  "cells": [
    {
      "cell_type": "code",
      "source": [
        "def verify_seating_arrangement(seats, specific_number):\n",
        "    n = get_number_of_rows(seats)\n",
        "    for i in range(n):\n",
        "        for j in range(n):\n",
        "            if i != j:\n",
        "                anime_fan_i = get_anime_watched(seats, i)\n",
        "                anime_fan_j = get_anime_watched(seats, j)\n",
        "                difference = abs(anime_fan_i - anime_fan_j)\n",
        "                if difference != specific_number:\n",
        "                    return False\n",
        "    return True\n",
        "\n",
        "# Helper function to get the number of rows in the seating arrangement\n",
        "def get_number_of_rows(seats):\n",
        "    row_count = 0\n",
        "    i = 0\n",
        "    while get_row(seats, i) != None:\n",
        "        row_count += 1\n",
        "        i += 1\n",
        "    return row_count\n",
        "\n",
        "# Helper function to get a row at a given index\n",
        "def get_row(seats, i):\n",
        "    if i < len(seats):\n",
        "        return seats[i]\n",
        "    else:\n",
        "        return None\n",
        "\n",
        "# Helper function to get the number of anime watched by a fan at a given seat\n",
        "def get_anime_watched(seats, i):\n",
        "    row = get_row(seats, i)\n",
        "    if row != None:\n",
        "        return row[i]\n",
        "    else:\n",
        "        return None\n",
        "\n",
        "# Example seating arrangement\n",
        "seating_arrangement = [[2, 4, 6],\n",
        "                       [4, 2, 8],\n",
        "                       [6, 8, 4]]\n",
        "\n",
        "# Example specific number\n",
        "specific_number = 2\n",
        "\n",
        "# Verify the seating arrangement\n",
        "is_correct = verify_seating_arrangement(seating_arrangement, specific_number)\n",
        "\n",
        "# Print the result\n",
        "if is_correct:\n",
        "    print(\"The seating arrangement is correct.\")\n",
        "else:\n",
        "    print(\"The seating arrangement is incorrect.\")\n"
      ],
      "metadata": {
        "colab": {
          "base_uri": "https://localhost:8080/"
        },
        "id": "uOa_4bK7CP5q",
        "outputId": "934377b2-6565-4dad-b724-b6d282613929"
      },
      "execution_count": null,
      "outputs": [
        {
          "output_type": "stream",
          "name": "stdout",
          "text": [
            "The seating arrangement is incorrect.\n"
          ]
        }
      ]
    },
    {
      "cell_type": "code",
      "source": [
        "def show_knight_moves(knight_position):\n",
        "    board = create_board()\n",
        "\n",
        "    # Possible knight moves\n",
        "    moves = []\n",
        "\n",
        "    # Calculate possible moves\n",
        "    row, col = knight_position\n",
        "\n",
        "    # 2 cells in upward direction and 1 cell in right direction\n",
        "    if row >= 2 and col <= 6:\n",
        "        moves = moves + [(row - 2, col + 1)]\n",
        "\n",
        "    # 2 cells in upward direction and 1 cell in left direction\n",
        "    if row >= 2 and col >= 1:\n",
        "        moves = moves + [(row - 2, col - 1)]\n",
        "\n",
        "    # 2 cells in downward direction and 1 cell in right direction\n",
        "    if row <= 5 and col <= 6:\n",
        "        moves = moves + [(row + 2, col + 1)]\n",
        "\n",
        "    # 2 cells in downward direction and 1 cell in left direction\n",
        "    if row <= 5 and col >= 1:\n",
        "        moves = moves + [(row + 2, col - 1)]\n",
        "\n",
        "    # 2 cells in left direction and 1 cell in upward direction\n",
        "    if col >= 2 and row >= 1:\n",
        "        moves = moves + [(row - 1, col - 2)]\n",
        "\n",
        "    # 2 cells in left direction and 1 cell in downward direction\n",
        "    if col >= 2 and row <= 6:\n",
        "        moves = moves + [(row + 1, col - 2)]\n",
        "\n",
        "    # 2 cells in right direction and 1 cell in upward direction\n",
        "    if col <= 5 and row >= 1:\n",
        "        moves = moves + [(row - 1, col + 2)]\n",
        "\n",
        "    # 2 cells in right direction and 1 cell in downward direction\n",
        "    if col <= 5 and row <= 6:\n",
        "        moves = moves + [(row + 1, col + 2)]\n",
        "\n",
        "    # Mark possible moves on the chessboard\n",
        "    for move in moves:\n",
        "        move_row, move_col = move\n",
        "        board[move_row][move_col] = 3\n",
        "\n",
        "    return board\n",
        "\n",
        "# Helper function to create an 8x8 chessboard with empty cells marked as 0\n",
        "def create_board():\n",
        "    board = [[0] * 8 for _ in range(8)]\n",
        "    return board\n",
        "\n",
        "# Example knight position\n",
        "knight_position = (3, 3)\n",
        "\n",
        "# Calculate knight moves and print the chessboard\n",
        "board = show_knight_moves(knight_position)\n",
        "for row in board:\n",
        "    for cell in row:\n",
        "        print(cell, end=' ')\n",
        "    print()"
      ],
      "metadata": {
        "colab": {
          "base_uri": "https://localhost:8080/"
        },
        "id": "NMyGN53rCP80",
        "outputId": "7aa1bfee-1b47-4e02-e1f6-108fedbbcb66"
      },
      "execution_count": null,
      "outputs": [
        {
          "output_type": "stream",
          "name": "stdout",
          "text": [
            "0 0 0 0 0 0 0 0 \n",
            "0 0 3 0 3 0 0 0 \n",
            "0 3 0 0 0 3 0 0 \n",
            "0 0 0 0 0 0 0 0 \n",
            "0 3 0 0 0 3 0 0 \n",
            "0 0 3 0 3 0 0 0 \n",
            "0 0 0 0 0 0 0 0 \n",
            "0 0 0 0 0 0 0 0 \n"
          ]
        }
      ]
    },
    {
      "cell_type": "code",
      "source": [],
      "metadata": {
        "id": "4bMPzkt-CP_i"
      },
      "execution_count": null,
      "outputs": []
    },
    {
      "cell_type": "code",
      "source": [
        "def show_knight_moves(knight_position):\n",
        "    board = create_board()\n",
        "\n",
        "    # Possible knight moves\n",
        "    moves = []\n",
        "\n",
        "    # Calculate possible moves\n",
        "    row, col = knight_position\n",
        "\n",
        "    # 2 cells in upward direction and 1 cell in right direction\n",
        "    if row >= 2 and col <= 6:\n",
        "        moves = moves + [(row - 2, col + 1)]\n",
        "\n",
        "    # 2 cells in upward direction and 1 cell in left direction\n",
        "    if row >= 2 and col >= 1:\n",
        "        moves = moves + [(row - 2, col - 1)]\n",
        "\n",
        "    # 2 cells in downward direction and 1 cell in right direction\n",
        "    if row <= 5 and col <= 6:\n",
        "        moves = moves + [(row + 2, col + 1)]\n",
        "\n",
        "    # 2 cells in downward direction and 1 cell in left direction\n",
        "    if row <= 5 and col >= 1:\n",
        "        moves = moves + [(row + 2, col - 1)]\n",
        "\n",
        "    # 2 cells in left direction and 1 cell in upward direction\n",
        "    if col >= 2 and row >= 1:\n",
        "        moves = moves + [(row - 1, col - 2)]\n",
        "\n",
        "    # 2 cells in left direction and 1 cell in downward direction\n",
        "    if col >= 2 and row <= 6:\n",
        "        moves = moves + [(row + 1, col - 2)]\n",
        "\n",
        "    # 2 cells in right direction and 1 cell in upward direction\n",
        "    if col <= 5 and row >= 1:\n",
        "        moves = moves + [(row - 1, col + 2)]\n",
        "\n",
        "    # 2 cells in right direction and 1 cell in downward direction\n",
        "    if col <= 5 and row <= 6:\n",
        "        moves = moves + [(row + 1, col + 2)]\n",
        "\n",
        "    # Mark possible moves on the chessboard\n",
        "    for move in moves:\n",
        "        move_row, move_col = move\n",
        "        board[move_row][move_col] = 3\n",
        "\n",
        "    return board\n",
        "\n",
        "# Helper function to create an 8x8 chessboard with empty cells marked as 0\n",
        "def create_board():\n",
        "    board = [[0] * 8 for _ in range(8)]\n",
        "    return board\n",
        "\n",
        "# Example knight position\n",
        "knight_position = (3, 3)\n",
        "\n",
        "# Calculate knight moves and print the chessboard\n",
        "board = show_knight_moves(knight_position)\n",
        "for row in board:\n",
        "    for col in row:\n",
        "        print(col, end=' ')\n",
        "    print()\n"
      ],
      "metadata": {
        "colab": {
          "base_uri": "https://localhost:8080/"
        },
        "id": "9t9zqeGWCQBY",
        "outputId": "4f2eb772-af96-4bf1-e836-1150ff347e08"
      },
      "execution_count": null,
      "outputs": [
        {
          "output_type": "stream",
          "name": "stdout",
          "text": [
            "0 0 0 0 0 0 0 0 \n",
            "0 0 3 0 3 0 0 0 \n",
            "0 3 0 0 0 3 0 0 \n",
            "0 0 0 0 0 0 0 0 \n",
            "0 3 0 0 0 3 0 0 \n",
            "0 0 3 0 3 0 0 0 \n",
            "0 0 0 0 0 0 0 0 \n",
            "0 0 0 0 0 0 0 0 \n"
          ]
        }
      ]
    }
  ]
}